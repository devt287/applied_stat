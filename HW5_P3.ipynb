{
  "nbformat": 4,
  "nbformat_minor": 0,
  "metadata": {
    "colab": {
      "provenance": [],
      "include_colab_link": true
    },
    "kernelspec": {
      "name": "ir",
      "display_name": "R"
    },
    "language_info": {
      "name": "R"
    }
  },
  "cells": [
    {
      "cell_type": "markdown",
      "metadata": {
        "id": "view-in-github",
        "colab_type": "text"
      },
      "source": [
        "<a href=\"https://colab.research.google.com/github/devt287/applied_stat/blob/main/HW5_P3.ipynb\" target=\"_parent\"><img src=\"https://colab.research.google.com/assets/colab-badge.svg\" alt=\"Open In Colab\"/></a>"
      ]
    },
    {
      "cell_type": "code",
      "source": [
        "library(\"ggplot2\")\n",
        "\n",
        "# the dataset (X,Y), which is assumed to be jointly Gaussian\n",
        "# NaN indicates that the value is missing\n",
        "X = c(48,36,20,29,42,42,20,42,22,41,45,14,6,\n",
        "      0,33,28,34,4,32,24,47,41,24,26,30,41)\n",
        "Y = c(42,33,16,39,38,36,15,33,NaN,NaN,NaN,NaN,7,\n",
        "      15,NaN,NaN,NaN,NaN,NaN,NaN,NaN,41,28,14,NaN,NaN)\n",
        "\n",
        "# YOUR CODE (~3 lines): construct a data frame \"df\" with three columns:\n",
        "# \"X\": the vector X\n",
        "# \"Y\": the vector Y with NaN replaced by zero\n",
        "# \"Z\": a boolean vector with Z_i = TRUE if Y_i is missing, and = FALSE otherwise\n",
        "\n",
        "\n",
        "\n",
        "# YOUR CODE (~1 line): use ggplot, draw a scatterplot of (X, Y)\n",
        "# use different colors for complete & missing data\n"
      ],
      "metadata": {
        "id": "3r3jxm4y5r56"
      },
      "execution_count": null,
      "outputs": []
    },
    {
      "cell_type": "code",
      "source": [
        "# the package \"mvtnorm\" might be useful to calculate multivariate Gaussian densities\n",
        "# the documentation could be found at https://cran.r-project.org/web/packages/mvtnorm/mvtnorm.pdf\n",
        "\n",
        "install.packages(\"mvtnorm\")\n",
        "library(\"mvtnorm\")"
      ],
      "metadata": {
        "id": "4mWf7wZw05gc"
      },
      "execution_count": null,
      "outputs": []
    },
    {
      "cell_type": "code",
      "source": [
        "log_likelihood <- function(df, mu, sigma){\n",
        "  # YOUR CODE (~3 lines): given the parameters (mu, sigma) for the bivariate\n",
        "  # Gaussian distribution, output the incomplete (unnormalized) log-likelihood\n",
        "  # of the dataset df\n",
        "  # Input:\n",
        "  # - df: a data frame consisting of (X, Y, Z)\n",
        "  # - mu: a 2 * 1 mean vector of the Gaussian distribution\n",
        "  # - sigma: a 2 * 2 covariance matrix of the Gaussian distribution\n",
        "  # Output: a scalar value, which is the overall log-likelihood\n",
        "  # Note: the dmvnorm() and dnorm() functions might be helpful to compute log\n",
        "  # densities for the multivariate & univariate Gaussian distributions\n",
        "\n",
        "\n",
        "}"
      ],
      "metadata": {
        "id": "_eMcBxdOzyxY"
      },
      "execution_count": null,
      "outputs": []
    },
    {
      "cell_type": "code",
      "source": [
        "# This is the function for the EM recursion\n",
        "# Input: the dataset df, and the current parameters (mu, sigma)\n",
        "# Output: the updated parameters (mu_new, sigma_new)\n",
        "EM_recursion <- function(df, mu, sigma){\n",
        "  # YOUR CODE (~2 lines): compute a conditional mean vector cond_mean\n",
        "  # if Y_i is not missing, then cond_mean_i = X_i;\n",
        "  # if Y_i is missing, then cond_mean_i is the conditional mean of Y_i given X_i\n",
        "  # under the current parameters (mu, sigma) in the Gaussian distribution\n",
        "  # This quantity is essentially the E-step for the mean\n",
        "\n",
        "  cond_mean =\n",
        "\n",
        "  # update of mu; this is the M-step for the mean\n",
        "  mu_new = c(mean(df$X), mean(cond_mean))\n",
        "\n",
        "  # YOUR CODE (~2 lines): compute a conditional variance vector cond_var\n",
        "  # if Y_i is not missing, then cond_var_i = 0;\n",
        "  # if Y_i is missing, then cond_var_i is the conditional variance of Y_i given\n",
        "  # X_i under the current parameters (mu, sigma) in the Gaussian distribution\n",
        "  # This quantity is essentially the E-step for the covariance\n",
        "\n",
        "  cond_var =\n",
        "\n",
        "  # update of sigma: this is the M-step for the covariance\n",
        "  sigma_new = matrix(c(0,0,0,0), nrow = 2, ncol = 2)\n",
        "  sigma_new[1,1] = mean((df$X - mu_new[1])^2)\n",
        "  sigma_new[1,2] = mean((df$X - mu_new[1]) * (cond_mean - mu_new[2]))\n",
        "  sigma_new[2,1] = sigma_new[1,2]\n",
        "  sigma_new[2,2] = mean((cond_mean - mu_new[2])^2 + cond_var)\n",
        "\n",
        "  return(list(mu = mu_new, sigma = sigma_new))\n",
        "}"
      ],
      "metadata": {
        "id": "XHKKGFZt7Ook"
      },
      "execution_count": null,
      "outputs": []
    },
    {
      "cell_type": "code",
      "source": [
        "# The overall EM algorithm\n",
        "# You do not need to change any code in this cell; you only need to run it\n",
        "\n",
        "# Initialization\n",
        "mu = c(0,0)\n",
        "sigma = matrix(c(100,0,0,100), nrow = 2, ncol = 2)\n",
        "ll = log_likelihood(df,mu,sigma)\n",
        "tol = 1e-4 # tolerance used in the stopping criterion\n",
        "print(ll) # print the log likelihood for your reference\n",
        "\n",
        "while(TRUE){\n",
        "  # update (mu, sigma)\n",
        "  theta = EM_recursion(df, mu, sigma)\n",
        "  ll_new = log_likelihood(df, theta$mu, theta$sigma)\n",
        "  print(ll_new) # print the new log likelihood for your reference\n",
        "\n",
        "  if (ll_new - ll < tol) {break} # stopping criterion\n",
        "\n",
        "  mu = theta$mu\n",
        "  sigma = theta$sigma\n",
        "  ll = ll_new\n",
        "}\n",
        "\n",
        "# You should see that the EM iteration converges after ~15 iterations\n",
        "# You should also see that the log-likelihood keeps increasing\n",
        "# If you don't observe so, go back and check your code\n",
        "\n",
        "# print the final solution (mu, sigma); include the output in your report\n",
        "print(mu)\n",
        "print(sigma)"
      ],
      "metadata": {
        "id": "JS-CNQjFzGmz"
      },
      "execution_count": null,
      "outputs": []
    },
    {
      "cell_type": "code",
      "source": [
        "# YOUR CODE (~3 lines):\n",
        "# 1. based on the final (mu, sigma), compute the predicted values for the missing\n",
        "#    values of Y; these should just be the conditional mean of Y given X\n",
        "# 2. use ggplot, draw a scatterplot of (X, Y) with missing values replaced by\n",
        "#    the above predictions; use different colors according to Z\n",
        "\n"
      ],
      "metadata": {
        "id": "TYobG7tDCsso"
      },
      "execution_count": null,
      "outputs": []
    }
  ]
}