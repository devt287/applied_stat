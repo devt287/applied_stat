{
  "nbformat": 4,
  "nbformat_minor": 0,
  "metadata": {
    "colab": {
      "provenance": [],
      "include_colab_link": true
    },
    "kernelspec": {
      "name": "ir",
      "display_name": "R"
    },
    "language_info": {
      "name": "R"
    }
  },
  "cells": [
    {
      "cell_type": "markdown",
      "metadata": {
        "id": "view-in-github",
        "colab_type": "text"
      },
      "source": [
        "<a href=\"https://colab.research.google.com/github/devt287/applied_stat/blob/main/HW6_P3.ipynb\" target=\"_parent\"><img src=\"https://colab.research.google.com/assets/colab-badge.svg\" alt=\"Open In Colab\"/></a>"
      ]
    },
    {
      "cell_type": "code",
      "source": [
        "theta_0 = 0.5  # true location parameter\n",
        "n_set = c(20,50,100,200,500,1000)  # set of sample sizes in the experiment\n",
        "mc_times = 20  # number of Monte Carlo simulations"
      ],
      "metadata": {
        "id": "3r3jxm4y5r56"
      },
      "execution_count": null,
      "outputs": []
    },
    {
      "cell_type": "code",
      "source": [
        "# the necessary R package for generating Laplace distributed random variables\n",
        "install.packages(\"VGAM\")\n",
        "library(\"VGAM\")\n",
        "\n",
        "generate_laplace <- function(n, theta_0){\n",
        "  # generate n iid Laplace random variables with mean theta_0 and variance 1\n",
        "  sample = rlaplace(n, location = theta_0, scale = 1)\n",
        "  sample = pmin(pmax(sample,-5),5) # thresholding to avoid numeric issues\n",
        "  return(sample)\n",
        "}"
      ],
      "metadata": {
        "id": "_eMcBxdOzyxY"
      },
      "execution_count": null,
      "outputs": []
    },
    {
      "cell_type": "code",
      "source": [
        "# this function estimates the density f(x) based on the sample\n",
        "# bw is the bandwidth parameter used in the computation\n",
        "density_est <- function(x, sample, bw) {\n",
        "  x = x + median(sample)\n",
        "  return( mean(dnorm(x - sample, sd = sqrt(bw))) )\n",
        "}\n",
        "\n",
        "# this function estimates the density derivative f'(x) based on the sample\n",
        "# bw is the bandwidth parameter used in the computation\n",
        "density_deriv_est <- function(x, sample, bw) {\n",
        "  x = x + median(sample)\n",
        "  return( mean(-((x-sample)/(bw^2)) * dnorm(x - sample, sd = sqrt(bw))))\n",
        "}\n",
        "\n",
        "# this function outputs the semiparametric estimate of theta_0\n",
        "semiparametric_estimate <- function(sample){\n",
        "  bw = density(sample)$bw # set the bandwidth parameter\n",
        "\n",
        "  # YOUR CODE (5-10 lines):\n",
        "  # based on the estimates of the density and derivative, use Stein's estimating\n",
        "  # equation to compute the semiparametric estimate of theta_0\n",
        "  #\n",
        "  # Note: the \"uniroot\" function finding the zero of a 1D function might be useful:\n",
        "  # https://stat.ethz.ch/R-manual/R-devel/library/stats/html/uniroot.html\n",
        "  # In uniroot, you may set interval = c(-10, 10)\n",
        "\n",
        "}"
      ],
      "metadata": {
        "id": "tsHPyQRCjrzj"
      },
      "execution_count": null,
      "outputs": []
    },
    {
      "cell_type": "code",
      "source": [
        "library(\"ggplot2\")\n",
        "set.seed(\"2023\")\n",
        "\n",
        "# YOUR CODE (~20 lines):\n",
        "# 1. for each value n in n_set, generate a sample of size n with truth theta_0\n",
        "# 2. compute three estimators based on the sample:\n",
        "### 2.1. the sample average;\n",
        "### 2.2. the MLE with known f (you are supposed to derive the MLE in this case\n",
        "### by hand, which should be a very simple function of the sample)\n",
        "### 2.3. Stein's semiparametric estimator.\n",
        "# 3. repeat the above procedure for mc_times=20 times, and output the mean\n",
        "# squared error for each (n, estimator) pair (so 6*3 matrix in total)\n",
        "# 4. use ggplot, draw (mean squared error ~ n) in a line chart with log-log scale;\n",
        "# all three curves for different estimators should be in te same plot\n",
        "# Note: the overall runtime might take several minutes, so it is advised to\n",
        "# start from small-scale experiments\n",
        "\n"
      ],
      "metadata": {
        "id": "DIn45jO6gWqZ"
      },
      "execution_count": null,
      "outputs": []
    }
  ]
}