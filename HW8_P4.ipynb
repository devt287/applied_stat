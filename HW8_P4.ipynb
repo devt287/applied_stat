{
  "nbformat": 4,
  "nbformat_minor": 0,
  "metadata": {
    "colab": {
      "provenance": [],
      "include_colab_link": true
    },
    "kernelspec": {
      "name": "ir",
      "display_name": "R"
    },
    "language_info": {
      "name": "R"
    }
  },
  "cells": [
    {
      "cell_type": "markdown",
      "metadata": {
        "id": "view-in-github",
        "colab_type": "text"
      },
      "source": [
        "<a href=\"https://colab.research.google.com/github/devt287/applied_stat/blob/main/HW8_P4.ipynb\" target=\"_parent\"><img src=\"https://colab.research.google.com/assets/colab-badge.svg\" alt=\"Open In Colab\"/></a>"
      ]
    },
    {
      "cell_type": "code",
      "source": [
        "install.packages(\"CVThresh\")\n",
        "install.packages(\"PLRModels\")\n",
        "install.packages(\"KernSmooth\")\n",
        "library(\"CVThresh\")\n",
        "library(\"PLRModels\")\n",
        "library(\"KernSmooth\")\n",
        "library(\"ggplot2\")\n",
        "library(\"splines\")"
      ],
      "metadata": {
        "id": "3r3jxm4y5r56"
      },
      "execution_count": null,
      "outputs": []
    },
    {
      "cell_type": "code",
      "source": [
        "# data generation\n",
        "set.seed(\"2023\")\n",
        "\n",
        "n = 1024  # sample size\n",
        "f = dopp(n)\n",
        "x = f$x   # values of x\n",
        "theta = f$meanf  # true values of f(x)\n",
        "y = rnorm(n, mean = theta, sd = 0.05)   # noisy values y of f(x)\n",
        "df = data.frame(x,y)\n",
        "\n",
        "# visualize the data\n",
        "ggplot(df) + geom_line(aes(x,theta))\n",
        "ggplot(df) + geom_line(aes(x,y))"
      ],
      "metadata": {
        "id": "MTePlWI0nxqa"
      },
      "execution_count": null,
      "outputs": []
    },
    {
      "cell_type": "code",
      "source": [
        "### YOUR CODE (~2 lines): implement the Nadaraya--Watson estimator\n",
        "# you may use ksmooth() function with a Gaussian kernel\n",
        "# select a data-driven bandwidth based on the following function:\n",
        "# dpill: https://search.r-project.org/CRAN/refmans/KernSmooth/html/dpill.html\n",
        "\n",
        "theta_kernel =\n",
        "\n",
        "# visualization and MSE\n",
        "ggplot(df) + geom_line(aes(x, theta_kernel))\n",
        "print(mean((theta_kernel - theta)^2))"
      ],
      "metadata": {
        "id": "ezm9__batxBN"
      },
      "execution_count": null,
      "outputs": []
    },
    {
      "cell_type": "code",
      "source": [
        "### YOUR CODE (~2 lines): implement the local polynomial regressions\n",
        "# compute the fits for two sets of hyperparameters\n",
        "# hyperparameter 1: degree = 1, bandwidth = 0.001\n",
        "# hyperparameter 2: degree = 20, bandwidth = 0.01\n",
        "# Gaussian kernel is used in both scenarios\n",
        "# you may find locpoly() function useful\n",
        "# you may also play with different bandwidths yourself to see what happens\n",
        "\n",
        "theta_LLR_1 =\n",
        "theta_LLR_20 =\n",
        "\n",
        "# visualization and MSE\n",
        "ggplot(df) + geom_line(aes(x, theta_LLR_1))\n",
        "ggplot(df) + geom_line(aes(x, theta_LLR_20))\n",
        "print(mean((theta_LLR_1 - theta)^2))\n",
        "print(mean((theta_LLR_20 - theta)^2))"
      ],
      "metadata": {
        "id": "YunwCif_7H6j"
      },
      "execution_count": null,
      "outputs": []
    },
    {
      "cell_type": "code",
      "source": [
        "### YOUR CODE: implement the cubic smoothing and regression spline estimates\n",
        "# for smoothing spline (~1 line): use smooth.spline() and cross validation to\n",
        "# set the parameters\n",
        "# for regression spline (~3 lines): use B-spline bs() of degree 3, with knots\n",
        "# {0, 0.005, ..., 0.995}. Then fit a linear model.\n",
        "\n",
        "theta_spline_smooth =\n",
        "theta_spline_reg =\n",
        "\n",
        "# visualization and MSE\n",
        "ggplot(df) + geom_line(aes(x, theta_spline_smooth))\n",
        "ggplot(df) + geom_line(aes(x, theta_spline_reg))\n",
        "print(mean((theta_spline_smooth - theta)^2))\n",
        "print(mean((theta_spline_reg - theta)^2))"
      ],
      "metadata": {
        "id": "5ix0L4DVArFW"
      },
      "execution_count": null,
      "outputs": []
    },
    {
      "cell_type": "code",
      "source": [
        "### YOUR CODE (~3 lines): implement the Fourier projection estimator\n",
        "# use fft() to compute the (inverse) Fourier transform, and\n",
        "# only keep the first and last 100 coefficients\n",
        "# Note 1: you may need to normalize your final result by n\n",
        "# Note 2: for the final plot, you may need to take the real part of complex values\n",
        "\n",
        "theta_fft =\n",
        "\n",
        "# visualization and MSE\n",
        "ggplot(df) + geom_line(aes(x, theta_fft))\n",
        "print(mean((theta_fft - theta)^2))"
      ],
      "metadata": {
        "id": "I7YALiA9C2nb"
      },
      "execution_count": null,
      "outputs": []
    },
    {
      "cell_type": "code",
      "source": [
        "### YOUR CODE (~6 lines): implement the wavelet thresholding estimators\n",
        "# You should implement both soft and hard thresholding estimators\n",
        "# the \"threshold\" function and the examples therein might be useful:\n",
        "# https://search.r-project.org/CRAN/refmans/wavethresh/html/threshold.wd.html\n",
        "# you may set policy = \"universal\" to choose thresholds\n",
        "\n",
        "theta_WT_soft =\n",
        "theta_WT_hard =\n",
        "\n",
        "# visualization and MSE\n",
        "ggplot(df) + geom_line(aes(x,theta_WT_soft))\n",
        "ggplot(df) + geom_line(aes(x,theta_WT_hard))\n",
        "print(mean((theta_WT_soft - theta)^2))\n",
        "print(mean((theta_WT_hard - theta)^2))"
      ],
      "metadata": {
        "id": "JbD0JooTk6xi"
      },
      "execution_count": null,
      "outputs": []
    }
  ]
}