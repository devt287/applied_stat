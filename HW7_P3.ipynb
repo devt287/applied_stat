{
  "nbformat": 4,
  "nbformat_minor": 0,
  "metadata": {
    "colab": {
      "provenance": [],
      "include_colab_link": true
    },
    "kernelspec": {
      "name": "ir",
      "display_name": "R"
    },
    "language_info": {
      "name": "R"
    }
  },
  "cells": [
    {
      "cell_type": "markdown",
      "metadata": {
        "id": "view-in-github",
        "colab_type": "text"
      },
      "source": [
        "<a href=\"https://colab.research.google.com/github/devt287/applied_stat/blob/main/HW7_P3.ipynb\" target=\"_parent\"><img src=\"https://colab.research.google.com/assets/colab-badge.svg\" alt=\"Open In Colab\"/></a>"
      ]
    },
    {
      "cell_type": "code",
      "source": [
        "### generate dataset (W_i, X_i, Y_i) with size 100\n",
        "\n",
        "set.seed(\"2023\")\n",
        "n = 100 # sample size\n",
        "X = runif(n, min = -1, max = 1) # covariate X uniformly distributed on [-1, 1]\n",
        "W = as.logical(rbinom(n, 1, plogis(4*X - 1))) # e(X) = P(W=1|X) = logistic(4*X-1)\n",
        "tau = 2 # true treatment effect\n",
        "# Gaussian outcomes with mu_0(X) = 0.2+0.3*X, mu_1(X) = mu_0(X) + tau\n",
        "Y = rnorm(n, mean = W * (0.2 + 0.3*X + tau) + (1-W) * (0.2 + 0.3*X), sd = 0.2)\n",
        "df = data.frame(W, X, Y) # construct data frame"
      ],
      "metadata": {
        "id": "3r3jxm4y5r56"
      },
      "execution_count": null,
      "outputs": []
    },
    {
      "cell_type": "code",
      "source": [
        "library(\"ggplot2\")\n",
        "\n",
        "### YOUR CODE (~1 line): using ggplot, plot a scatter plot of (X_i, Y_i);\n",
        "# you should use different colors for the control group and treatment group.\n"
      ],
      "metadata": {
        "id": "JbD0JooTk6xi"
      },
      "execution_count": null,
      "outputs": []
    },
    {
      "cell_type": "code",
      "source": [
        "### YOUR CODE (~2 lines):\n",
        "# use logistic regression to fit W ~ X;\n",
        "# compute the fitted propensity scores e_hat for every X and\n",
        "# add them to the data frame df.\n",
        "\n",
        "df$e_hat =\n",
        "\n",
        "# plot the true and estimated propensities scores\n",
        "ggplot(df,aes(x=X)) + geom_point(aes(y=plogis(4*X-1), color = \"red\")) +\n",
        "  geom_point(aes(y=e_hat, color = \"blue\"))"
      ],
      "metadata": {
        "id": "_eMcBxdOzyxY"
      },
      "execution_count": null,
      "outputs": []
    },
    {
      "cell_type": "code",
      "source": [
        "### YOUR CODE (~1 line): based on e_hat, compute the IPW estimator for tau;\n",
        "# for simplicity, no sample splitting / cross validation is applied here.\n",
        "IPW =\n",
        "\n",
        "print(IPW)"
      ],
      "metadata": {
        "id": "tsHPyQRCjrzj"
      },
      "execution_count": null,
      "outputs": []
    },
    {
      "cell_type": "code",
      "source": [
        "### YOUR CODE (~4 lines):\n",
        "# use linear regression to fit Y on X for both control and treatment groups;\n",
        "# compute the fitted mean outcomes mu_1_hat and mu_0_hat for every X and\n",
        "# add them to the data frame df.\n",
        "\n",
        "df$mu_1_hat =\n",
        "df$mu_0_hat =\n",
        "\n",
        "# plot the true and estimated outcomes for both the control group and treatment group\n",
        "ggplot(df, aes(x=X)) + geom_point(aes(y = Y, color = W)) +\n",
        "  geom_line(aes(y=mu_1_hat, color=TRUE)) +\n",
        "  geom_line(aes(y=mu_0_hat, color=FALSE))"
      ],
      "metadata": {
        "id": "DIn45jO6gWqZ"
      },
      "execution_count": null,
      "outputs": []
    },
    {
      "cell_type": "code",
      "source": [
        "### YOUR CODE (~1 line): based on (e_hat, mu_1_hat, mu_0_hat), compute the AIPW estimator for tau;\n",
        "# for simplicity, no sample splitting / cross validation is applied here.\n",
        "AIPW =\n",
        "\n",
        "print(AIPW)"
      ],
      "metadata": {
        "id": "IuCKwec7ykPc"
      },
      "execution_count": null,
      "outputs": []
    }
  ]
}