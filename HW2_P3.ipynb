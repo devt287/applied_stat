{
  "nbformat": 4,
  "nbformat_minor": 0,
  "metadata": {
    "colab": {
      "provenance": [],
      "include_colab_link": true
    },
    "kernelspec": {
      "name": "ir",
      "display_name": "R"
    },
    "language_info": {
      "name": "R"
    }
  },
  "cells": [
    {
      "cell_type": "markdown",
      "metadata": {
        "id": "view-in-github",
        "colab_type": "text"
      },
      "source": [
        "<a href=\"https://colab.research.google.com/github/devt287/applied_stat/blob/main/HW2_P3.ipynb\" target=\"_parent\"><img src=\"https://colab.research.google.com/assets/colab-badge.svg\" alt=\"Open In Colab\"/></a>"
      ]
    },
    {
      "cell_type": "code",
      "execution_count": null,
      "metadata": {
        "id": "eddrAeerOuND"
      },
      "outputs": [],
      "source": [
        "library(\"ggplot2\")\n",
        "mu = 10\n",
        "nsim = 10000\n",
        "\n",
        "# Your code: generate nsim i.i.d. samples from Poi(mu) (~1 line)\n",
        "set.seed(2023)\n",
        "Y ="
      ]
    },
    {
      "cell_type": "code",
      "source": [
        "# Your code: compute the Pearson residual for each sample (~1-2 lines)\n",
        "pearson_resid =\n",
        "\n",
        "# Your code: use ggplot to plot the following (~2-3 lines):\n",
        "# 1. A normal Q-Q plot for pearson_resid;\n",
        "# 2. A reference line with slope 1 and intercept 0\n",
        "\n"
      ],
      "metadata": {
        "id": "C8vPq8MufdCO"
      },
      "execution_count": null,
      "outputs": []
    },
    {
      "cell_type": "code",
      "source": [
        "# Your code: compute the deviance residual for each sample (~1-2 lines)\n",
        "dev_resid =\n",
        "\n",
        "# Your code: use ggplot to plot the following (~2-3 lines):\n",
        "# 1. A normal Q-Q plot for dev_resid;\n",
        "# 2. A reference line with slope 1 and intercept 0\n",
        "\n"
      ],
      "metadata": {
        "id": "qHgBlblSQIjH"
      },
      "execution_count": null,
      "outputs": []
    }
  ]
}