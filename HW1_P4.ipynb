{
  "cells": [
    {
      "cell_type": "markdown",
      "metadata": {
        "colab_type": "text",
        "id": "view-in-github"
      },
      "source": [
        "<a href=\"https://colab.research.google.com/github/devt287/applied_stat/blob/main/HW1_P4.ipynb\" target=\"_parent\"><img src=\"https://colab.research.google.com/assets/colab-badge.svg\" alt=\"Open In Colab\"/></a>"
      ]
    },
    {
      "cell_type": "code",
      "execution_count": 1,
      "metadata": {
        "id": "3r3jxm4y5r56",
        "vscode": {
          "languageId": "r"
        }
      },
      "outputs": [
        {
          "data": {
            "text/html": [
              "<style>\n",
              ".list-inline {list-style: none; margin:0; padding: 0}\n",
              ".list-inline>li {display: inline-block}\n",
              ".list-inline>li:not(:last-child)::after {content: \"\\00b7\"; padding: 0 .5ex}\n",
              "</style>\n",
              "<ol class=list-inline><li>777</li><li>18</li></ol>\n"
            ],
            "text/latex": [
              "\\begin{enumerate*}\n",
              "\\item 777\n",
              "\\item 18\n",
              "\\end{enumerate*}\n"
            ],
            "text/markdown": [
              "1. 777\n",
              "2. 18\n",
              "\n",
              "\n"
            ],
            "text/plain": [
              "[1] 777  18"
            ]
          },
          "metadata": {},
          "output_type": "display_data"
        }
      ],
      "source": [
        "### YOUR CODE: read \"College.csv\" into the \"college\" data frame (~1 line)\n",
        "# Make sure that you have the directory set to the correct location for the data.\n",
        "\n",
        "college <- read.csv(\"College.csv\")\n",
        "\n",
        "# Treat the university names as the row name\n",
        "rownames(college) = college[, 1]\n",
        "\n",
        "### YOUR CODE: remove the first column in the college data frame (~1 line)\n",
        "college <- college[, -1]\n",
        "\n",
        "### YOUR CODE: output the number of rows & columns in the dataset (~1 line)\n",
        "dim(college)"
      ]
    },
    {
      "cell_type": "code",
      "execution_count": 3,
      "metadata": {
        "id": "bI6alxrq-Diz",
        "vscode": {
          "languageId": "r"
        }
      },
      "outputs": [
        {
          "ename": "ERROR",
          "evalue": "Error in data.frame(college, Accept_ratio): arguments imply differing number of rows: 777, 0\n",
          "output_type": "error",
          "traceback": [
            "Error in data.frame(college, Accept_ratio): arguments imply differing number of rows: 777, 0\nTraceback:\n",
            "1. data.frame(college, Accept_ratio)",
            "2. stop(gettextf(\"arguments imply differing number of rows: %s\", \n .     paste(unique(nrows), collapse = \", \")), domain = NA)"
          ]
        }
      ],
      "source": [
        "### YOUR CODE: add a variable called \"Accept_ratio\" representing\n",
        "# the acceptance ratio of each university (~1 line)\n",
        "Accept_ratio <- college$Accepted / college$Apps\n",
        "\n",
        "college <- data.frame(college, Accept_ratio)"
      ]
    },
    {
      "cell_type": "code",
      "execution_count": null,
      "metadata": {
        "id": "lDrgWwrn9_YJ",
        "vscode": {
          "languageId": "r"
        }
      },
      "outputs": [],
      "source": [
        "### YOUR CODE: find the row index with the name \"New York University\" (~1 line)\n",
        "# looking up the \"which\" function in R might be helpful\n",
        "NYU_idx =\n",
        "\n",
        "View(college[NYU_idx,])"
      ]
    },
    {
      "cell_type": "code",
      "execution_count": null,
      "metadata": {
        "id": "_f-TQB6jB8BY",
        "vscode": {
          "languageId": "r"
        }
      },
      "outputs": [],
      "source": [
        "library(\"ggplot2\")\n",
        "\n",
        "### YOUR CODE: using ggplot, make a box plot of the out-of-state tuition against\n",
        "# the public/private indicator (~1 line)\n",
        "\n"
      ]
    },
    {
      "cell_type": "code",
      "execution_count": null,
      "metadata": {
        "id": "bjBt0drghHzi",
        "vscode": {
          "languageId": "r"
        }
      },
      "outputs": [],
      "source": [
        "### YOUR CODE: using ggplot, make a violin plot of the estimated personal spending\n",
        "# against the public/private indicator (~1 line)\n",
        "\n"
      ]
    },
    {
      "cell_type": "code",
      "execution_count": null,
      "metadata": {
        "id": "nOkPRccphVMJ",
        "vscode": {
          "languageId": "r"
        }
      },
      "outputs": [],
      "source": [
        "### YOUR CODE: using ggplot, plot the following on the same plot (~2 lines)\n",
        "# 1. a scatterplot of \"Top10perc\" against \"Accept_ratio\";\n",
        "# 2. in the scatterplot, use different colors for private and public schools;\n",
        "# 3. a smooth curve of \"Top10perc\" against \"Accept_ratio\".\n",
        "\n"
      ]
    },
    {
      "cell_type": "code",
      "execution_count": null,
      "metadata": {
        "id": "ebuWvy1DiK-4",
        "vscode": {
          "languageId": "r"
        }
      },
      "outputs": [],
      "source": [
        "### YOUR CODE: using ggplot, plot the following on the same plot (~2 lines)\n",
        "# 1. the histogram of the student/faculty ratio, with 25 bins;\n",
        "# 2. in the histogram, fill different colors for private and public schools.\n",
        "\n"
      ]
    }
  ],
  "metadata": {
    "colab": {
      "include_colab_link": true,
      "provenance": []
    },
    "kernelspec": {
      "display_name": "R",
      "language": "R",
      "name": "ir"
    },
    "language_info": {
      "codemirror_mode": "r",
      "file_extension": ".r",
      "mimetype": "text/x-r-source",
      "name": "R",
      "pygments_lexer": "r",
      "version": "4.3.1"
    },
    "vscode": {
      "interpreter": {
        "hash": "673453475f17358d12e586cf7c11b61d2ef42d9150dcd5b4201155b574941341"
      }
    }
  },
  "nbformat": 4,
  "nbformat_minor": 0
}
