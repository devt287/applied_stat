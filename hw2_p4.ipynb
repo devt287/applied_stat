{
  "nbformat": 4,
  "nbformat_minor": 0,
  "metadata": {
    "colab": {
      "provenance": [],
      "include_colab_link": true
    },
    "kernelspec": {
      "name": "ir",
      "display_name": "R"
    },
    "language_info": {
      "name": "R"
    }
  },
  "cells": [
    {
      "cell_type": "markdown",
      "metadata": {
        "id": "view-in-github",
        "colab_type": "text"
      },
      "source": [
        "<a href=\"https://colab.research.google.com/github/devt287/applied_stat/blob/main/hw2_p4.ipynb\" target=\"_parent\"><img src=\"https://colab.research.google.com/assets/colab-badge.svg\" alt=\"Open In Colab\"/></a>"
      ]
    },
    {
      "cell_type": "code",
      "execution_count": null,
      "metadata": {
        "id": "eddrAeerOuND"
      },
      "outputs": [],
      "source": [
        "# Load data\n",
        "\n",
        "y = c(9,7,5,8,11,10,21,16,18,9,5) # observed frequency of words\n",
        "theta = c(6.97,4.21,3.33,5.36,10.24,13.96,10.77,8.87,13.77,9.99,7.48) # predicted frequency of words\n",
        "d = length(y)"
      ]
    },
    {
      "cell_type": "code",
      "source": [
        "# Your code: implement the Wald test\n",
        "\n",
        "T_Wald = # Compute the Wald statistic (~1-2 lines)\n",
        "df_Wald =  # Degree of freedom (~1 line)\n",
        "\n",
        "p_Wald = 1 - pchisq(T_Wald, df_Wald) # p-value of the Wald test\n",
        "print(p_Wald)"
      ],
      "metadata": {
        "id": "qHgBlblSQIjH"
      },
      "execution_count": null,
      "outputs": []
    },
    {
      "cell_type": "code",
      "source": [
        "# Your code: implement the score test\n",
        "\n",
        "T_score = # Compute the score test statistic (~1-2 lines)\n",
        "df_score = # Degree of freedom (~1 line)\n",
        "\n",
        "p_score = 1 - pchisq(T_score, df_score) # p-value of the score test\n",
        "print(p_score)"
      ],
      "metadata": {
        "id": "tqu8PZOBS6AX"
      },
      "execution_count": null,
      "outputs": []
    },
    {
      "cell_type": "code",
      "source": [
        "# Your code: implement the likelihood ratio test\n",
        "\n",
        "T_lrt = # Compute the LRT statistic (~1-2 lines)\n",
        "df_lrt = # Degree of freedom (~1 line)\n",
        "\n",
        "p_lrt = 1 - pchisq(T_lrt, df_lrt) # p-value of the LRT\n",
        "print(p_lrt)"
      ],
      "metadata": {
        "id": "b5B9qNUUTCoz"
      },
      "execution_count": null,
      "outputs": []
    }
  ]
}