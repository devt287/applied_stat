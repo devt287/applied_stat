{
  "cells": [
    {
      "cell_type": "markdown",
      "metadata": {
        "colab_type": "text",
        "id": "view-in-github"
      },
      "source": [
        "<a href=\"https://colab.research.google.com/github/devt287/applied_stat/blob/main/hw2_p4.ipynb\" target=\"_parent\"><img src=\"https://colab.research.google.com/assets/colab-badge.svg\" alt=\"Open In Colab\"/></a>"
      ]
    },
    {
      "cell_type": "code",
      "execution_count": 1,
      "metadata": {
        "id": "eddrAeerOuND",
        "vscode": {
          "languageId": "r"
        }
      },
      "outputs": [],
      "source": [
        "# Load data\n",
        "\n",
        "y = c(9,7,5,8,11,10,21,16,18,9,5) # observed frequency of words\n",
        "theta = c(6.97,4.21,3.33,5.36,10.24,13.96,10.77,8.87,13.77,9.99,7.48) # predicted frequency of words\n",
        "d = length(y)"
      ]
    },
    {
      "cell_type": "code",
      "execution_count": 2,
      "metadata": {
        "id": "qHgBlblSQIjH",
        "vscode": {
          "languageId": "r"
        }
      },
      "outputs": [
        {
          "name": "stdout",
          "output_type": "stream",
          "text": [
            "[1] 0.0153831\n"
          ]
        }
      ],
      "source": [
        "# Your code: implement the Wald test\n",
        "\n",
        "T_Wald = sum((y - theta)^2 / theta)\n",
        "df_Wald =  length(y)\n",
        "\n",
        "p_Wald = 1 - pchisq(T_Wald, df_Wald) # p-value of the Wald test\n",
        "print(p_Wald)"
      ]
    },
    {
      "cell_type": "code",
      "execution_count": 3,
      "metadata": {
        "id": "tqu8PZOBS6AX",
        "vscode": {
          "languageId": "r"
        }
      },
      "outputs": [
        {
          "name": "stdout",
          "output_type": "stream",
          "text": [
            "[1] 0.0153831\n"
          ]
        }
      ],
      "source": [
        "# Your code: implement the score test\n",
        "U = (y - theta) / sqrt(theta)\n",
        "T_score = sum(U^2)# Compute the score test statistic (~1-2 lines)\n",
        "df_score = length(y)# Degree of freedom (~1 line)\n",
        "\n",
        "p_score = 1 - pchisq(T_score, df_score) # p-value of the score test\n",
        "print(p_score)"
      ]
    },
    {
      "cell_type": "code",
      "execution_count": 4,
      "metadata": {
        "id": "b5B9qNUUTCoz",
        "vscode": {
          "languageId": "r"
        }
      },
      "outputs": [
        {
          "name": "stdout",
          "output_type": "stream",
          "text": [
            "[1] 0.05030743\n"
          ]
        }
      ],
      "source": [
        "# Your code: implement the likelihood ratio test\n",
        "\n",
        "T_lrt = 2 * sum(ifelse(y == 0, 0, y * log(y/theta)) - (y - theta))# Compute the LRT statistic (~1-2 lines)\n",
        "df_lrt = length(y)# Degree of freedom (~1 line)\n",
        "\n",
        "p_lrt = 1 - pchisq(T_lrt, df_lrt) # p-value of the LRT\n",
        "print(p_lrt)"
      ]
    }
  ],
  "metadata": {
    "colab": {
      "include_colab_link": true,
      "provenance": []
    },
    "kernelspec": {
      "display_name": "R",
      "language": "R",
      "name": "ir"
    },
    "language_info": {
      "codemirror_mode": "r",
      "file_extension": ".r",
      "mimetype": "text/x-r-source",
      "name": "R",
      "pygments_lexer": "r",
      "version": "4.3.1"
    }
  },
  "nbformat": 4,
  "nbformat_minor": 0
}
