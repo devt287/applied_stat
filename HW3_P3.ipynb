{
  "nbformat": 4,
  "nbformat_minor": 0,
  "metadata": {
    "colab": {
      "provenance": [],
      "include_colab_link": true
    },
    "kernelspec": {
      "name": "ir",
      "display_name": "R"
    },
    "language_info": {
      "name": "R"
    }
  },
  "cells": [
    {
      "cell_type": "markdown",
      "metadata": {
        "id": "view-in-github",
        "colab_type": "text"
      },
      "source": [
        "<a href=\"https://colab.research.google.com/github/devt287/applied_stat/blob/main/HW3_P3.ipynb\" target=\"_parent\"><img src=\"https://colab.research.google.com/assets/colab-badge.svg\" alt=\"Open In Colab\"/></a>"
      ]
    },
    {
      "cell_type": "code",
      "execution_count": null,
      "metadata": {
        "id": "eddrAeerOuND"
      },
      "outputs": [],
      "source": [
        "# generate z_1, ..., z_n ~ N(0.5, 1) with n = 200\n",
        "mu = 0.5\n",
        "sigma = 1\n",
        "nsim = 200\n",
        "set.seed(2024)\n",
        "Z = rnorm(nsim, mu, sigma)"
      ]
    },
    {
      "cell_type": "code",
      "source": [
        "# YOUR CODE (~3 lines):\n",
        "# partition Z into 49 evenly spaced bins [-4.9, -4.7], [-4.7, -4.5], ..., [4.7, 4.9];\n",
        "# construct a data frame with X being the centers of the above bins,\n",
        "# and Y being the histogram counts of Z in each bin\n"
      ],
      "metadata": {
        "id": "C8vPq8MufdCO"
      },
      "execution_count": null,
      "outputs": []
    },
    {
      "cell_type": "code",
      "source": [
        "# YOUR CODE (~1 line):\n",
        "# apply Lindsey's method to fit a Poisson GLM with a degree-5 polynomial of X\n",
        "# note 1: remember to add the \"offset\" term (correp. to h(X_i) = exp(-X_i^2/2)) to the GLM\n",
        "# note 2: remember to set \"raw = TRUE\" if you use the poly() function;\n",
        "# otherwise you arrive at orthogonal polynomials\n",
        "\n",
        "model_full =\n",
        "summary(model_full)"
      ],
      "metadata": {
        "id": "qHgBlblSQIjH"
      },
      "execution_count": null,
      "outputs": []
    },
    {
      "cell_type": "code",
      "source": [
        "library(\"ggplot2\")\n",
        "\n",
        "# YOUR CODE (~8 lines): use ggplot, compute and plot\n",
        "# 1. the estimated pdf of Z from the above Poisson GLM\n",
        "# 2. the truth pdf of Z (i.e. N(0.5, 1))\n",
        "# be sure to find the right normalization for the estimated pdf\n",
        "# plot them in the same figure, with different colors\n",
        "\n",
        "pdf_est =\n",
        "pdf_true ="
      ],
      "metadata": {
        "id": "osWzifjcroW-"
      },
      "execution_count": null,
      "outputs": []
    },
    {
      "cell_type": "code",
      "source": [
        "AIC = c(0,0,0,0,0)\n",
        "\n",
        "for (degree in 1 : 5) {\n",
        "  # YOUR CODE (~2 lines):\n",
        "  # fit a reduced Poisson GLM with a given degree of X\n",
        "  # compute the AIC value of the above model and assign it to AIC[degree]\n",
        "\n",
        "}\n",
        "\n",
        "# output the AIC values for different models\n",
        "AIC"
      ],
      "metadata": {
        "id": "5v-c9qVlt0wL"
      },
      "execution_count": null,
      "outputs": []
    },
    {
      "cell_type": "code",
      "source": [
        "# YOUR CODE (~1 line):\n",
        "# based on the above AIC values, choose the best model among them\n",
        "model_best =\n",
        "\n",
        "# YOUR CODE (~6 lines): use ggplot, compute and plot the estimated and true\n",
        "# pdfs of Z, with the same requirements as before\n",
        "pdf_est_best ="
      ],
      "metadata": {
        "id": "-zpNjA-xw_jz"
      },
      "execution_count": null,
      "outputs": []
    },
    {
      "cell_type": "code",
      "source": [
        "# install the glmnet package in R; this may take some time\n",
        "# the glmnet documentation can be found at https://cran.r-project.org/web/packages/glmnet/glmnet.pdf\n",
        "\n",
        "install.packages(\"glmnet\")\n",
        "library(\"glmnet\")"
      ],
      "metadata": {
        "id": "gWQKgxVKxSj_"
      },
      "execution_count": null,
      "outputs": []
    },
    {
      "cell_type": "code",
      "source": [
        "# YOUR CODE (~2 lines):\n",
        "# fit a Poisson GLM with a degree-5 polynomial of X, using Lasso and 10-fold cross validation\n",
        "# output the coefficients of the fitted model\n",
        "# note: look up cv.glmnet in the glmnet documentation\n",
        "\n",
        "fit_lasso =\n",
        "\n",
        "# YOUR CODE (~6 lines): as before, plot the estimated and true pdfs\n",
        "pdf_est_lasso ="
      ],
      "metadata": {
        "id": "DefhcmoszEdm"
      },
      "execution_count": null,
      "outputs": []
    },
    {
      "cell_type": "code",
      "source": [
        "# YOUR CODE (~2 lines):\n",
        "# fit a Poisson GLM with a degree-5 polynomial of X, using Lasso and 10-fold cross validation\n",
        "# KEY DIFFERENCE: use no offset in the new Lasso model\n",
        "# output the coefficients of the fitted model\n",
        "\n",
        "fit_lasso_nooffset =\n",
        "\n",
        "# YOUR CODE (~6 lines): as before, plot the estimated and true pdfs\n",
        "pdf_est_nooffset ="
      ],
      "metadata": {
        "id": "vA26wIE29D-4"
      },
      "execution_count": null,
      "outputs": []
    }
  ]
}