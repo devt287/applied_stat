{
  "nbformat": 4,
  "nbformat_minor": 0,
  "metadata": {
    "colab": {
      "provenance": [],
      "include_colab_link": true
    },
    "kernelspec": {
      "name": "ir",
      "display_name": "R"
    },
    "language_info": {
      "name": "R"
    }
  },
  "cells": [
    {
      "cell_type": "markdown",
      "metadata": {
        "id": "view-in-github",
        "colab_type": "text"
      },
      "source": [
        "<a href=\"https://colab.research.google.com/github/devt287/applied_stat/blob/main/HW4_P3.ipynb\" target=\"_parent\"><img src=\"https://colab.research.google.com/assets/colab-badge.svg\" alt=\"Open In Colab\"/></a>"
      ]
    },
    {
      "cell_type": "code",
      "source": [
        "# install necessary packages; this may take some time\n",
        "# \"JM\" contains the \"aids\" dataset we will be using for this coding problem\n",
        "# \"survminer\" contains many useful functions for the survival analysis\n",
        "\n",
        "install.packages(\"JM\")\n",
        "install.packages(\"survminer\")\n",
        "library(\"JM\")\n",
        "library(\"survminer\")"
      ],
      "metadata": {
        "id": "3r3jxm4y5r56"
      },
      "execution_count": null,
      "outputs": []
    },
    {
      "cell_type": "code",
      "source": [
        "# we will be using the \"aids.id\" dataset; look at the first few rows for an overview\n",
        "# the explanations of the variables can be found at https://rdrr.io/cran/JM/man/aids.html\n",
        "head(aids.id)\n",
        "\n",
        "# YOUR CODE (~1-3 lines): from the aids.id data,\n",
        "# plot the Kaplan-Meier curves for males and females (ignoring all other features), separately\n",
        "# you should include both curves in the same plot, as well as confidence intervals\n",
        "# note 1: it might be helpful to first construct a survival object using the \"Surv\" function\n",
        "# note 2: it might be helpful to look up the \"ggsurvplot\" and \"survfit\" functions\n",
        "# note 3: there might be more than one ways to implement it (using different functions/packages),\n",
        "# and they are all fine as long as you are plotting the correct thing\n"
      ],
      "metadata": {
        "id": "kVeRrp2ebBO0"
      },
      "execution_count": null,
      "outputs": []
    },
    {
      "cell_type": "code",
      "source": [
        "# YOUR CODE (~1 line):\n",
        "# fit a Cox model with \"gender\" being the only feature\n",
        "# look at the fitted coefficient, as well as its significance\n",
        "cox_model =\n",
        "summary(cox_model)\n",
        "\n",
        "# YOUR CODE (~3 lines):\n",
        "# plot the fitted survival curves for males and females based on the Cox model\n",
        "# you should include both curves in the same plot, as well as confidence intervals\n",
        "# look at the differences from the above Kaplan-Meier curves\n",
        "# note: the \"ggsurvplot_combine\" function might be useful to combine two plots\n"
      ],
      "metadata": {
        "id": "nt4S_p0X7Qb5"
      },
      "execution_count": null,
      "outputs": []
    },
    {
      "cell_type": "code",
      "source": [
        "# YOUR CODE (~1-2 lines):\n",
        "# plot the Kaplan-Meier curves for all 4 possible combinations of (drug, prevOI), ignoring other features\n",
        "# you should include all curves in the same plot (no confidence intervals needed)\n",
        "# based on your plot, understand the effects of (drug, prevOI)\n"
      ],
      "metadata": {
        "id": "ZWJb0BJUGlwI"
      },
      "execution_count": null,
      "outputs": []
    },
    {
      "cell_type": "code",
      "source": [
        "# YOUR CODE (~1 line):\n",
        "# fit a Cox model with two features (drug, prevOI)\n",
        "# look at the fitted coefficients and their significance levels\n",
        "\n",
        "cox_model2 =\n",
        "summary(cox_model2)\n",
        "\n",
        "# YOUR CODE (~5 lines):\n",
        "# plot the fitted curves for all 4 possible combinations of (drug, prevOI)\n",
        "# you should include all curves in the same plot (no confidence intervals needed)\n",
        "# look at the differences from the above Kaplan-Meier curves\n"
      ],
      "metadata": {
        "id": "IioV29EhEcCT"
      },
      "execution_count": null,
      "outputs": []
    },
    {
      "cell_type": "code",
      "source": [
        "# YOUR CODE (~1 line):\n",
        "# fit another Cox model with features (drug, prevOI), as well as the interaction drug * prevOI\n",
        "# look at the fitted coefficients and their significance levels\n",
        "\n",
        "cox_model3 =\n",
        "summary(cox_model3)\n",
        "\n",
        "# YOUR CODE (~5 lines):\n",
        "# plot the fitted curves for all 4 possible combinations of (drug, prevOI)\n",
        "# you should include all curves in the same plot (no confidence intervals needed)\n",
        "# look at the differences from the above Cox model without interaction\n"
      ],
      "metadata": {
        "id": "L5NCvqo5bKZ6"
      },
      "execution_count": null,
      "outputs": []
    }
  ]
}